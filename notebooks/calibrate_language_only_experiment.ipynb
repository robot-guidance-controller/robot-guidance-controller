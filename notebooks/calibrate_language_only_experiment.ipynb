{
 "cells": [
  {
   "cell_type": "code",
   "execution_count": null,
   "id": "0751d990",
   "metadata": {},
   "outputs": [],
   "source": [
    "import preamble\n",
    "from camera_feed import CameraFeed\n",
    "from rgbd_stream import RGBDStream_iOS\n",
    "import numpy as np\n",
    "\n",
    "stream = RGBDStream_iOS()\n",
    "camera_feed = CameraFeed(\"Calibrator\", stream, np.load('calibration_matrix.npy'))\n",
    "\n",
    "while True:\n",
    "    try:\n",
    "        width, height = camera_feed.frame.depth.shape[1], camera_feed.frame.depth.shape[0]\n",
    "        x, y = 0.5 * width, 0.5 * height\n",
    "        z = camera_feed.frame.depth[int(y), int(x)]\n",
    "        XYZ = camera_feed.frame.camera.screen_to_world(np.array([x, y, z]), width, height)\n",
    "\n",
    "        radius = max(1, int(5.0 / np.linalg.norm(camera_feed.frame.camera.position - XYZ)))\n",
    "        camera_feed.draw_world_point(XYZ, radius, color=(255, 0, 0))\n",
    "        camera_feed.update_window()\n",
    "        print(XYZ)\n",
    "    except:\n",
    "        break"
   ]
  }
 ],
 "metadata": {
  "kernelspec": {
   "display_name": "Python 3",
   "language": "python",
   "name": "python3"
  },
  "language_info": {
   "codemirror_mode": {
    "name": "ipython",
    "version": 3
   },
   "file_extension": ".py",
   "mimetype": "text/x-python",
   "name": "python",
   "nbconvert_exporter": "python",
   "pygments_lexer": "ipython3",
   "version": "3.12.7"
  }
 },
 "nbformat": 4,
 "nbformat_minor": 5
}
